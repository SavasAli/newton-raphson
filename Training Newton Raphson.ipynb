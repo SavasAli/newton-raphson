{
 "cells": [
  {
   "cell_type": "code",
   "execution_count": null,
   "metadata": {},
   "outputs": [],
   "source": [
    "# define function f(x)\n",
    "def func(x):\n",
    "    return 2 * x**3 - 2 * x ** 2 + x - 20\n",
    "\n",
    "#define derivative of f(x)\n",
    "def derivFunc(x):\n",
    "    return\n",
    "\n",
    "#plot function\n",
    "x = np.linspace(-4, 4, 100)\n",
    "\n",
    "fig, (ax1, ax2) = plt.subplots(1, 2)\n",
    "ax1.plot(x, func(x))\n",
    "ax2.plot(x, derivFunc(x))\n",
    "\n",
    "# set the x-spine\n",
    "ax1.spines['left'].set_position('zero')\n",
    "ax2.spines['left'].set_position('zero')\n",
    "\n",
    "# turn off the right spine/ticks\n",
    "ax1.spines['right'].set_color('none')\n",
    "ax1.yaxis.tick_left()\n",
    "\n",
    "ax2.spines['right'].set_color('none')\n",
    "ax2.yaxis.tick_left()\n",
    "\n",
    "# set the y-spine\n",
    "ax1.spines['bottom'].set_position('zero')\n",
    "ax2.spines['bottom'].set_position('zero')\n",
    "# turn off the top spine/ticks\n",
    "ax1.spines['top'].set_color('none')\n",
    "ax1.xaxis.tick_bottom()\n",
    "\n",
    "ax2.spines['top'].set_color('none')\n",
    "ax2.xaxis.tick_bottom()"
   ]
  },
  {
   "cell_type": "code",
   "execution_count": null,
   "metadata": {},
   "outputs": [],
   "source": [
    "# define Newton Raphson function\n",
    "# iinitialize by setting x0, maximum tolerance and/or number of iterations\n",
    "def newton_raphson(x0:int=0, tolerance:float=0.00001, N:int=10):\n",
    "    \"\"\"Function which applies Newton Raphson algorithm in order to find root of a function\"\"\"\n",
    "    \n",
    "    # variable initialisation\n",
    "    #\n",
    "    #\n",
    "    #\n",
    "    \n",
    "    #Newton Raphson algorithm\n",
    "    while (#statement):\n",
    "        #\n",
    "        #\n",
    "        #\n",
    "        #\n",
    "        #\n",
    "        return print(\"Root estimate :\", xn_plus_1), print('Tolerance     :', abs(d)), print('Iterations    :', n-1)\n",
    "    "
   ]
  }
 ],
 "metadata": {
  "kernelspec": {
   "display_name": "Python 3",
   "language": "python",
   "name": "python3"
  },
  "language_info": {
   "codemirror_mode": {
    "name": "ipython",
    "version": 3
   },
   "file_extension": ".py",
   "mimetype": "text/x-python",
   "name": "python",
   "nbconvert_exporter": "python",
   "pygments_lexer": "ipython3",
   "version": "3.6.4"
  }
 },
 "nbformat": 4,
 "nbformat_minor": 2
}
