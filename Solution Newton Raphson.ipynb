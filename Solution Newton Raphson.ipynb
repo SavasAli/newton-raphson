{
 "cells": [
  {
   "cell_type": "code",
   "execution_count": 1,
   "metadata": {},
   "outputs": [],
   "source": [
    "%matplotlib inline\n",
    "import matplotlib.pyplot as plt\n",
    "import numpy as np"
   ]
  },
  {
   "cell_type": "code",
   "execution_count": 2,
   "metadata": {},
   "outputs": [
    {
     "data": {
      "image/png": "[encoded data removed]",
      "text/plain": [
       "<Figure size 432x288 with 2 Axes>"
      ]
     },
     "metadata": {},
     "output_type": "display_data"
    }
   ],
   "source": [
    "# define function f(x)\n",
    "def func(x):\n",
    "    return 2 * x** 4 - 2 * x ** 2 + x - 20\n",
    "\n",
    "#define derivative of f(x)\n",
    "def derivFunc(x):\n",
    "    return 8 * x ** 3 - 4 * x + 1\n",
    "\n",
    "#plot function\n",
    "x = np.linspace(-4, 4, 100)\n",
    "\n",
    "fig, (ax1, ax2) = plt.subplots(1, 2)\n",
    "ax1.plot(x, func(x))\n",
    "ax2.plot(x, derivFunc(x))\n",
    "\n",
    "# set the x-spine\n",
    "ax1.spines['left'].set_position('zero')\n",
    "ax2.spines['left'].set_position('zero')\n",
    "\n",
    "# turn off the right spine/ticks\n",
    "ax1.spines['right'].set_color('none')\n",
    "ax1.yaxis.tick_left()\n",
    "\n",
    "ax2.spines['right'].set_color('none')\n",
    "ax2.yaxis.tick_left()\n",
    "\n",
    "# set the y-spine\n",
    "ax1.spines['bottom'].set_position('zero')\n",
    "ax2.spines['bottom'].set_position('zero')\n",
    "# turn off the top spine/ticks\n",
    "ax1.spines['top'].set_color('none')\n",
    "ax1.xaxis.tick_bottom()\n",
    "\n",
    "ax2.spines['top'].set_color('none')\n",
    "ax2.xaxis.tick_bottom()"
   ]
  },
  {
   "cell_type": "code",
   "execution_count": 18,
   "metadata": {},
   "outputs": [],
   "source": [
    "# define function Newton Raphson function\n",
    "# iinitialize by setting x0, maximum tolerance and/or number of iterations\n",
    "def newton_raphson(x:int=0, tolerance:float=0.00001, N:int=10):\n",
    "    \"\"\"Function which applies Newton Raphson algorithm in order to find root of function\"\"\"\n",
    "    \n",
    "    # variable initialisation\n",
    "    n = 0\n",
    "    d = func(x)/derivFunc(x)\n",
    "    # while loop\n",
    "    try: \n",
    "        if (abs(d) <= tolerance): \n",
    "            print(\"Root estimate:\", x), print('Tolerance     :', abs(d)), print('Iterations    :', n)\n",
    "        else:\n",
    "            #write a while loop\n",
    "            while (abs(d) >= tolerance) and (n <= N):\n",
    "                # calculate x(n+1)\n",
    "                d = -func(x)/derivFunc(x)\n",
    "                x += d\n",
    "                n += 1\n",
    "        print(\"Root estimate :\", x), print('Tolerance     :', abs(d)), print('Iterations    :', n-1)\n",
    "    except ZeroDivisionError:\n",
    "        print('Zero division error: the derative is equal to zero in an iteration')"
   ]
  },
  {
   "cell_type": "code",
   "execution_count": 19,
   "metadata": {},
   "outputs": [
    {
     "name": "stdout",
     "output_type": "stream",
     "text": [
      "Root estimate : 1.8843754250429772\n",
      "Tolerance     : 1.1203839025227179e-09\n",
      "Iterations    : 13\n"
     ]
    }
   ],
   "source": [
    "newton_raphson(N = 100)"
   ]
  },
  {
   "cell_type": "code",
   "execution_count": null,
   "metadata": {},
   "outputs": [],
   "source": []
  }
 ],
 "metadata": {
  "kernelspec": {
   "display_name": "Python 3",
   "language": "python",
   "name": "python3"
  },
  "language_info": {
   "codemirror_mode": {
    "name": "ipython",
    "version": 3
   },
   "file_extension": ".py",
   "mimetype": "text/x-python",
   "name": "python",
   "nbconvert_exporter": "python",
   "pygments_lexer": "ipython3",
   "version": "3.6.4"
  }
 },
 "nbformat": 4,
 "nbformat_minor": 2
}
